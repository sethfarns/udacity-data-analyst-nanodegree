{
 "cells": [
  {
   "cell_type": "markdown",
   "metadata": {
    "nbpresent": {
     "id": "41ac1503-a582-4fda-b6f5-18795aa765df"
    }
   },
   "source": [
    "## Stroop Test--Questions and Answers\n",
    "\n",
    "*1- What is our independent variable? What is our dependent variable?*\n",
    "\n",
    "The independent variable is the word/color combination (i.e. congruent words or incongruent words) that is prompted to the test participant. The dependent variable is the time it takes for the participant to complete each task.\n",
    "\n",
    "*2- What is an appropriate set of hypotheses for this task? What kind of statistical test do you expect to perform? Justify your choices.*\n",
    "\n",
    "The null hypothesis is that there is no significant difference between people's speed in reading congruent word-color combinations and reading incongruent word-color combinations. In other words, for this hypothesis to be true, we're stating that differences in the sample observations result purely from chance and are not statistically significant. This hypothesis can be expressed as follows:\n",
    "\n",
    "\\begin{align}\n",
    "H_0: \\mu_{c} - \\mu_{i} = 0 \\\\\n",
    "\\end{align}\n",
    "\n",
    "In this expression $\\mu_{c}$ represents the congruent population mean, and $\\mu_{i}$ represents the incongruent population mean. The null hypothesis is that there will be no significant difference between them, so $\\mu_{c}$ - $\\mu_{i}$ is approximately zero. Another way to express this is stating that the mean of the difference between the two populations will be equal to zero, as follows:\n",
    "\n",
    "\\begin{align}\n",
    "H_0: \\mu_{d} = 0 \\\\\n",
    "\\end{align}\n",
    "\n",
    "The alternative hypothesis is that there is a significant difference between people's speed in reading congruent and incongruent word-color combinations. We can go further and hypothesize that people will read slower with incongruent word-color combinations than with congruent word-color combinations, as we would not reasonably expect the incongruent combinations to speed up the reading. This hypothesis can be expressed one of the following two ways:\n",
    "\n",
    "\\begin{align}\n",
    "H_1: \\mu_{c} - \\mu_{i} < 0 \\\\\n",
    "H_1: \\mu_{d} < 0 \\\\\n",
    "\\end{align}\n",
    "\n",
    "As for which statistical test to perform, in this case, since we do not know the overall population's mean and standard deviation, and all we have are two samples, we must use the t-test instead of the z-test. Also, we're looking at paired samples, where we want to pair the observations from one sample with the observations from the other. Therefore I expect to perform a single-tailed (specifically lower-tailed) t-test for dependent means (or paired t-test) to measure the hypotheses.\n",
    "\n",
    "The assumptions for the t-test for dependent means are that the scale of measurement is approximately interval; we have random sampling from a defined population; the samples used to produce the different scores are linked in the population through repeated measurement, natural association or matching; and the scores are normally distributed in the population.\n",
    "\n",
    "*Now it’s your chance to try out the Stroop task for yourself. Go to this link, which has a Java-based applet for performing the Stroop task. Record the times that you received on the task (you do not need to submit your times to the site.) Now, download this dataset which contains results from a number of participants in the task. Each row of the dataset contains the performance for one participant, with the first number their results on the congruent task and the second number their performance on the incongruent task.*\n",
    "\n",
    "I finished the test the first time (congruent) in 8.448 seconds, and the second time (incongruent)in 21.507 seconds. For the rest of this step, I downloaded the CSV file, then used a custom Python function to read in the data, creating two arrays of data:  one for the congruent times, and another for the incongruent times.\n",
    "\n",
    "*3- Report some descriptive statistics regarding this dataset. Include at least one measure of central tendency and at least one measure of variability.*\n",
    "\n",
    "```python\n",
    "mean_congruent_times = 14.05 # mean of the congruent times\n",
    "mean_incongruent_times = 22.02 # mean of the incongruent times\n",
    "sd_congruent_times = 3.56 # standard deviation of the congruent times\n",
    "sd_incongruent_times = 4.8 # standard deviation of the incongruent times\n",
    "```\n",
    "*4- Provide one or two visualizations that show the distribution of the sample data. Write one or two sentences noting what you observe about the plot or plots.*\n",
    "\n",
    "(See plots below under \"Question 4--Plot Data\"). I made a simple bar graph plotting the mean of the congruent times and the incongruent times. This one was a simple visualization showing the difference between the two tests, and made it very clear that the incongruent times were longer, on average. My second plot was a stacked bar histogram, which showed the frequency of each value, for each type of test. This one also made it clear that the times were by and large longer for the incongruent tests.\n",
    "\n",
    "*5- Now, perform the statistical test and report your results. What is your confidence level and your critical statistic value? Do you reject the null hypothesis or fail to reject it? Come to a conclusion in terms of the experiment task. Did the results match up with your expectations?*\n",
    "\n",
    "```python\n",
    "degrees_of_freedom = 23 # degrees of freedom of the sample\n",
    "t_statistic = -8.02 # t-statistic of both samples\n",
    "alpha = 0.05 # alpha or p-value for test, based on confidence level of 95%\n",
    "t_critical = +-1.71 # t-critical value for alpha = 0.05\n",
    "```\n",
    "\n",
    "The confidence level I chose for this test was 95%, meaning that my alpha or p value was 0.05. The t-critical value based on the t-table (I used Python's scipy.stats library to look this up) was plus or minus 1.71. The t-statistic, comparing the incongruent times with the congruent times, was -8.02. The t-statistic was clearly much lower than the critical t-value of -1.71, which means we reject the null hypothesis. In other words, we can confidently (greater than 95% confidence) say that the average time for the congruent test will be lower than that for the incongruent test. Also, since this is an experimental design, we can comment about the causality, stating that the incongruent test causes higher times than the congruent test. This was exactly the result that I expected going into the test.\n",
    "\n",
    "*6- Optional: What do you think is responsible for the effects observed? Can you think of an alternative or similar task that would result in a similar effect? Some research about the problem will be helpful for thinking about these two questions!*\n",
    "\n",
    "I think our brains have a hard time reading words and saying something else out loud at the same time. I do think that the results might be different if the test subjects were given words in a non-native language, maybe a second language that they had learned, or else a made-up language that they were taught at the beginning of the test. I could see the same issue arising if you altered font sizes of words and told subjects to say 'big' or 'small' based on the size of the font while ignoring what the words actually say."
   ]
  },
  {
   "cell_type": "markdown",
   "metadata": {
    "collapsed": true,
    "nbpresent": {
     "id": "bbc072af-d43c-4064-9d81-d85bf641a359"
    }
   },
   "source": [
    "## Stroop Test--Evidence and Plots\n",
    "Below is shown the work I did to make all the calculations as well as the plots for question 4."
   ]
  },
  {
   "cell_type": "markdown",
   "metadata": {
    "nbpresent": {
     "id": "3f9c8f0c-171c-46c9-87f3-a11f316f5eee"
    }
   },
   "source": [
    "#### Question 2--Read Data in from CSV"
   ]
  },
  {
   "cell_type": "code",
   "execution_count": 2,
   "metadata": {
    "collapsed": true,
    "nbpresent": {
     "id": "0e35149e-7b93-4abb-acc9-95b37143961b"
    }
   },
   "outputs": [],
   "source": [
    "import csv\n",
    "def get_list_from_csv(file_name, column=0, skip_first_row=True):\n",
    "    data_list = []\n",
    "    with open(file_name, 'r') as csvfile:\n",
    "        reader = csv.reader(csvfile)\n",
    "        counter = 0\n",
    "        for row in reader:\n",
    "            if counter == 0 and skip_first_row == True:\n",
    "                counter += 1\n",
    "                next\n",
    "            elif row[column] != '' and row[column]:\n",
    "                data_list.append(float(row[column]))\n",
    "    return data_list\n",
    "\n",
    "congruent_times = get_list_from_csv('stroopdata.csv', column=0, skip_first_row=True)\n",
    "incongruent_times = get_list_from_csv('stroopdata.csv', column=1, skip_first_row=True)"
   ]
  },
  {
   "cell_type": "markdown",
   "metadata": {
    "nbpresent": {
     "id": "829e6ed3-0caf-42cb-9d9c-3726a438fa5a"
    }
   },
   "source": [
    "#### Question 3--Report Descriptive Statistics from this Dataset\n",
    "Below shows how I calculated the descriptive statistics for question 3."
   ]
  },
  {
   "cell_type": "code",
   "execution_count": 3,
   "metadata": {
    "collapsed": false,
    "nbpresent": {
     "id": "b80e59ea-2477-4cda-9f55-659f789a56bf"
    }
   },
   "outputs": [
    {
     "name": "stdout",
     "output_type": "stream",
     "text": [
      "Congruent mean:  14.051125\n",
      "Congruent standard deviation:  3.559357957645195\n",
      "Incongruent mean:  22.0159166667\n",
      "Incongruent standard deviation:  4.797057122469138\n"
     ]
    }
   ],
   "source": [
    "# load required Python libraries\n",
    "import numpy as np\n",
    "import math\n",
    "# method for finding standard deviation from an array or list of values; includes option for Bessel's correction\n",
    "def find_standard_deviation(input_array, sample=False):\n",
    "    # initialize array for housing new array of values that show deviation from mean\n",
    "    deviation_array = []\n",
    "    for i in input_array:\n",
    "        # take the deviation from the mean for each value and square it, then add it to the new array\n",
    "        deviation = (i - np.average(input_array)) ** 2\n",
    "        deviation_array.append(deviation)\n",
    "    if sample == True:\n",
    "        # Bessel's correction for samples\n",
    "        mean_deviation = sum(deviation_array) / (len(deviation_array) - 1)\n",
    "    else:\n",
    "        mean_deviation = np.average(deviation_array)\n",
    "    # take the square root of the mean of the deviation values\n",
    "    standard_deviation = math.sqrt(mean_deviation)\n",
    "    return standard_deviation\n",
    "\n",
    "# calculate mean for each sample, using Numpy function np.average\n",
    "congruent_mean = np.average(congruent_times)\n",
    "incongruent_mean = np.average(incongruent_times)\n",
    "\n",
    "# calculate standard deviation for each sample, using the above method\n",
    "congruent_sd = find_standard_deviation(congruent_times, sample=True)\n",
    "incongruent_sd = find_standard_deviation(incongruent_times, sample=True)\n",
    "\n",
    "print(\"Congruent mean: \", congruent_mean)\n",
    "print(\"Congruent standard deviation: \", congruent_sd)\n",
    "print(\"Incongruent mean: \", incongruent_mean)\n",
    "print(\"Incongruent standard deviation: \", incongruent_sd)"
   ]
  },
  {
   "cell_type": "markdown",
   "metadata": {
    "nbpresent": {
     "id": "ae1f5cf2-6e1d-4c07-82c0-641a70f9a20e"
    }
   },
   "source": [
    "#### Question 4--Plot Data"
   ]
  },
  {
   "cell_type": "code",
   "execution_count": 4,
   "metadata": {
    "collapsed": false,
    "nbpresent": {
     "id": "4c43201f-48fc-4296-8818-9d937cce04e2"
    }
   },
   "outputs": [
    {
     "data": {
      "image/png": "[encoded data removed]",
      "text/plain": [
       "<matplotlib.figure.Figure at 0x1d8e528b4e0>"
      ]
     },
     "metadata": {},
     "output_type": "display_data"
    }
   ],
   "source": [
    "# load matplotlib library as plt, and display it inline in the Jupyter notebook\n",
    "import matplotlib.pyplot as plt\n",
    "%matplotlib inline\n",
    "# take the mean values of each sample as the values to plot\n",
    "values_for_plot = [congruent_mean, incongruent_mean]\n",
    "ind = np.arange(len(values_for_plot))\n",
    "# use the plt.bar method from pyplot to plot the two bars\n",
    "p1 = plt.bar(ind, values_for_plot, 0.35, color=('#d62728', '#0000ff'))\n",
    "plt.ylabel('Times')\n",
    "plt.xticks(ind, ('Congruent', 'Incongruent'))\n",
    "plt.title('Average time for congruent vs. incongruent tests')\n",
    "plt.show()"
   ]
  },
  {
   "cell_type": "code",
   "execution_count": 5,
   "metadata": {
    "collapsed": false,
    "nbpresent": {
     "id": "6367c6b0-e1c3-44d5-8025-a00b2465577d"
    }
   },
   "outputs": [
    {
     "data": {
      "image/png": "[encoded data removed]",
      "text/plain": [
       "<matplotlib.figure.Figure at 0x1d8e527cf28>"
      ]
     },
     "metadata": {},
     "output_type": "display_data"
    }
   ],
   "source": [
    "# make a histogram using the congruent times and incongruent times as input\n",
    "p1 = plt.hist([congruent_times, incongruent_times], histtype='barstacked')\n",
    "plt.ylabel('Frequency')\n",
    "plt.xlabel('Time (in seconds)')\n",
    "plt.title('Completion times for congruent vs. incongruent tests')\n",
    "plt.legend(('Congruent', 'Incongruent'))\n",
    "plt.show()"
   ]
  },
  {
   "cell_type": "markdown",
   "metadata": {
    "nbpresent": {
     "id": "91a507e5-301f-4f02-8bd8-29459bfaf663"
    }
   },
   "source": [
    "#### Question 5--Statistical Test"
   ]
  },
  {
   "cell_type": "code",
   "execution_count": 9,
   "metadata": {
    "collapsed": false,
    "nbpresent": {
     "id": "c503b15e-a759-4b52-bfba-cb2e5c95f6af"
    }
   },
   "outputs": [
    {
     "name": "stdout",
     "output_type": "stream",
     "text": [
      "Degrees of freedom:  23\n",
      "T-statistic:  -8.020706944109964\n",
      "T-critical value:  1.71387152775\n"
     ]
    }
   ],
   "source": [
    "# load additional required Python libraries\n",
    "import scipy\n",
    "import scipy.stats\n",
    "\n",
    "# calculate mean difference between two samples\n",
    "def get_mean_difference(sample1, sample2):\n",
    "    difference = np.array(sample2) - np.array(sample1)\n",
    "    mean_difference = np.average(difference)\n",
    "    return mean_difference\n",
    "\n",
    "# method for finding standard deviation from an array or list of values; includes option for Bessel's correction\n",
    "def find_standard_deviation(input_array, sample=False):\n",
    "    # initialize array for housing new array of values that show deviation from mean\n",
    "    deviation_array = []\n",
    "    for i in input_array:\n",
    "        # take the deviation from the mean for each value and square it, then add it to the new array\n",
    "        deviation = (i - np.average(input_array)) ** 2\n",
    "        deviation_array.append(deviation)\n",
    "    if sample == True:\n",
    "        # Bessel's correction for samples\n",
    "        mean_deviation = sum(deviation_array) / (len(deviation_array) - 1)\n",
    "    else:\n",
    "        mean_deviation = np.average(deviation_array)\n",
    "    # take the square root of the mean of the deviation values\n",
    "    standard_deviation = math.sqrt(mean_deviation)\n",
    "    return standard_deviation\n",
    "\n",
    "# calculate standard error from two independent samples\n",
    "def get_se_ind(sample_sd1, sample_sd2, n1, n2):\n",
    "    return math.sqrt((sample_sd1 ** 2 / n1) + (sample_sd2 ** 2 / n2))\n",
    "\n",
    "# calculate t-statistic from two dependent samples\n",
    "def get_t_statistic(mean1, mean2, sd, n):\n",
    "    return float(mean1 - mean2) / float(sd / math.sqrt(n))\n",
    "\n",
    "# calculate t-critical value from the alpha probability score and the degrees of freedom\n",
    "# uses Python's scipy.stats library to look up the t-value\n",
    "def p_to_t(probability, df, two_tails=False):\n",
    "    if two_tails == True:\n",
    "        probability = probability / 2\n",
    "    return scipy.stats.t.ppf(probability, df) * -1\n",
    "\n",
    "# calculate sample size\n",
    "n = len(congruent_times)\n",
    "# calculate degrees of freedom (size of sample minus 1)\n",
    "df = n - 1\n",
    "# calculate differences in the two samples for each value\n",
    "differences = np.array(congruent_times) - np.array(incongruent_times)\n",
    "# calculate the mean of these differences\n",
    "mean_of_differences = np.average(differences)\n",
    "# calculate the standard deviation for the differences\n",
    "differences_sd = find_standard_deviation(differences, sample=True)\n",
    "# calculate the t-statistic\n",
    "t_statistic = get_t_statistic(congruent_mean, incongruent_mean, differences_sd, n)\n",
    "# calculate the t-critical value for an alpha score of 0.05, on a one-tailed test\n",
    "t_critical = p_to_t(0.05, df, two_tails=False)\n",
    "\n",
    "print(\"Degrees of freedom: \", df)\n",
    "print(\"T-statistic: \", t_statistic)\n",
    "print(\"T-critical value: \", t_critical)"
   ]
  },
  {
   "cell_type": "markdown",
   "metadata": {
    "nbpresent": {
     "id": "b1649a73-d7cd-4f35-bf38-7c5e14341bbd"
    }
   },
   "source": [
    "## References\n",
    "* Scipy stats for calculating t-critical value from the p-value: [scipy.stats.t](https://docs.scipy.org/doc/scipy-0.14.0/reference/generated/scipy.stats.t.html)\n",
    "* Additional helpful info on using scipy.stats to calculate t-value: [stackoverflow](http://stackoverflow.com/questions/19339305/python-function-to-get-the-t-statistic)\n",
    "* Matplotlib for making bar graphs and histograms: [matplotlib.pyplot](http://matplotlib.org/api/pyplot_api.html)\n"
   ]
  }
 ],
 "metadata": {
  "anaconda-cloud": {},
  "kernelspec": {
   "display_name": "Python [py35]",
   "language": "python",
   "name": "Python [py35]"
  },
  "language_info": {
   "codemirror_mode": {
    "name": "ipython",
    "version": 3
   },
   "file_extension": ".py",
   "mimetype": "text/x-python",
   "name": "python",
   "nbconvert_exporter": "python",
   "pygments_lexer": "ipython3",
   "version": "3.5.2"
  },
  "nbpresent": {
   "slides": {},
   "themes": {}
  }
 },
 "nbformat": 4,
 "nbformat_minor": 0
}
