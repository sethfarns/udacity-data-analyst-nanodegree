{
 "cells": [
  {
   "cell_type": "markdown",
   "metadata": {},
   "source": [
    "## Load Dependencies"
   ]
  },
  {
   "cell_type": "code",
   "execution_count": null,
   "metadata": {
    "collapsed": true
   },
   "outputs": [],
   "source": [
    "import numpy as np\n",
    "import pandas as pd\n",
    "import matplotlib.pyplot as plt\n",
    "from datetime import datetime\n",
    "%matplotlib inline"
   ]
  },
  {
   "cell_type": "markdown",
   "metadata": {},
   "source": [
    "## Load DVOA Data"
   ]
  },
  {
   "cell_type": "code",
   "execution_count": null,
   "metadata": {
    "collapsed": true
   },
   "outputs": [],
   "source": [
    "coaches_df = pd.read_excel(\"dvoa_stats.xlsx\", sheetname=\"coaches\")\n",
    "teamoff_df = pd.read_excel(\"dvoa_stats.xlsx\", sheetname=\"teamoff\")\n",
    "qb_df = pd.read_excel(\"dvoa_stats.xlsx\", sheetname=\"qb\")"
   ]
  },
  {
   "cell_type": "markdown",
   "metadata": {},
   "source": [
    "## Calculate Required Data for Machine Learning Model\n",
    "Below are the required fields we'll use for this model:\n",
    "* hc_years\n",
    "* hc_years_with_team\n",
    "* hc_career_dvoa\n",
    "* hc_last_year_dvoa\n",
    "* hc_career_differential (improvement over final dvoa from previous coach on that team)\n",
    "* oc_years\n",
    "* oc_years_with_team\n",
    "* oc_career_dvoa\n",
    "* oc_last_year_dvoa\n",
    "* oc_career_differential (same as hc_career_differential)\n",
    "* qb_years\n",
    "* qb_years_with_team\n",
    "* qb_career_dvoa\n",
    "* qb_last_year_dvoa\n",
    "* team_last_year_dvoa (the team's offensive dvoa from the last year)\n",
    "\n",
    "Each of these fields will be calculated for each team and season, with the label/target being that team's offensive dvoa for that year."
   ]
  },
  {
   "cell_type": "markdown",
   "metadata": {},
   "source": [
    "#### Calculate Stats for Players and Coaches"
   ]
  },
  {
   "cell_type": "code",
   "execution_count": null,
   "metadata": {
    "collapsed": false
   },
   "outputs": [],
   "source": [
    "print(\"Block running...\")\n",
    "start_time = datetime.now()\n",
    "\n",
    "def get_row_stats(row_dict, temp_df, stat_type):\n",
    "    if stat_type == 'qb':\n",
    "        name = row_dict['player']\n",
    "        this_guy = temp_df.query(\"player == \\\"{}\\\"\".format(name))\n",
    "    else:\n",
    "        name = row_dict['name']\n",
    "        this_guy = temp_df.query(\"name == \\\"{}\\\"\".format(name))        \n",
    "    num_years = row_dict['year'] - this_guy['year'].min()\n",
    "    this_team = this_guy.query(\"team == '{}'\".format(row_dict['team']))\n",
    "    first_year_with_team = this_team['year'].min()\n",
    "    prev_years = this_guy.query(\"year < {}\".format(row_dict['year']))\n",
    "    num_years_with_team = 0\n",
    "    career_diff_from_prev = 0\n",
    "    if not prev_years.empty:\n",
    "        career_dvoa = prev_years['dvoa'].mean()\n",
    "        if stat_type != 'qb':\n",
    "            career_diff_from_prev = prev_years['diff_from_prev_coach'].mean()\n",
    "        if not prev_years['year'].max() < (row_dict['year'] - 1):            \n",
    "            for r in prev_years.sort_values(\"year\", ascending=False, axis=0, inplace=False).iterrows():\n",
    "                if r[1]['team'] == row_dict['team']:\n",
    "                    num_years_with_team += 1\n",
    "                else:\n",
    "                    break\n",
    "    else:\n",
    "        career_dvoa = None\n",
    "    last_year = this_guy.query(\"year == {}\".format(row_dict['year'] - 1))\n",
    "    if not last_year.empty:\n",
    "        last_year_dvoa = last_year['dvoa'].max()\n",
    "    else:\n",
    "        last_year_dvoa = 0\n",
    "    team_last_year = temp_df.query(\"year == {} & team == '{}'\".format(row_dict['year'] - 1, row_dict['team']))\n",
    "    if stat_type == 'hc':\n",
    "        if not team_last_year.empty:\n",
    "            team_last_year_dvoa = team_last_year['dvoa'].max()\n",
    "        else:\n",
    "            team_last_year_dvoa = 0\n",
    "        return {\n",
    "                'team': row_dict['team'],\n",
    "                'year': row_dict['year'],\n",
    "                \"{}_years\".format(stat_type) : num_years,\n",
    "                '{}_years_with_team'.format(stat_type) : num_years_with_team,\n",
    "                '{}_last_year_dvoa'.format(stat_type) : last_year_dvoa,\n",
    "                '{}_career_dvoa'.format(stat_type) : career_dvoa,\n",
    "                '{}_career_diff_from_prev'.format(stat_type) : career_diff_from_prev,\n",
    "                'team_last_year_dvoa' : team_last_year_dvoa\n",
    "        }\n",
    "    else:\n",
    "        return {\n",
    "                'team': row_dict['team'],\n",
    "                'year': row_dict['year'],\n",
    "                \"{}_years\".format(stat_type) : num_years,\n",
    "                '{}_years_with_team'.format(stat_type) : num_years_with_team,\n",
    "                '{}_last_year_dvoa'.format(stat_type) : last_year_dvoa,\n",
    "                '{}_career_dvoa'.format(stat_type) : career_dvoa,\n",
    "                '{}_career_diff_from_prev'.format(stat_type) : career_diff_from_prev\n",
    "        }        \n",
    "\n",
    "def get_stats(df, stat_type):\n",
    "    temp_values = []\n",
    "    temp_df = df.sort_values(by=['team', 'year'], ascending=True, axis=0, inplace=False)\n",
    "    for row in temp_df.iterrows():\n",
    "        row_dict = dict(row[1])\n",
    "        temp_values.append(get_row_stats(row_dict, temp_df, stat_type))\n",
    "    return temp_values\n",
    "\n",
    "merged_df = coaches_df.merge(teamoff_df.loc[:, ['team', 'year', 'off_dvoa', 'diff_from_prev_coach']], on=['team', 'year'])\n",
    "merged_df.rename(columns={'off_dvoa': 'dvoa'}, inplace=True)\n",
    "\n",
    "hc_stats_df = pd.DataFrame(get_stats(merged_df.query(\"type == 'head coach'\"), 'hc'))\n",
    "oc_stats_df = pd.DataFrame(get_stats(merged_df.query(\"type == 'offensive coordinator'\"), 'oc'))\n",
    "\n",
    "qb_stats_df = pd.DataFrame(get_stats(qb_df, 'qb'))\n",
    "qb_stats_df.query(\"team != '2TM'\", inplace=True) # remove players who had 2 teams for the same season\n",
    "qb_stats_df.drop(['qb_career_diff_from_prev'], axis=1, inplace=True)\n",
    "print(\"Block complete in {} seconds.\".format((datetime.now() - start_time).seconds))"
   ]
  },
  {
   "cell_type": "markdown",
   "metadata": {},
   "source": [
    "#### Merge DataFrames, Extract Features and Labels"
   ]
  },
  {
   "cell_type": "code",
   "execution_count": null,
   "metadata": {
    "collapsed": false
   },
   "outputs": [],
   "source": [
    "combined_stats_df = hc_stats_df.merge(oc_stats_df, on=['team', 'year']).merge(\n",
    "    qb_stats_df, on=['team', 'year']).merge(teamoff_df.loc[:, ['team', 'year', 'off_dvoa']], on=['team', 'year'])\n",
    "combined_stats_df.fillna(0, inplace=True)\n",
    "# group on year and team, average totals where there's more than one record (as in more than one QB for a team for a season)\n",
    "combined_stats_df = combined_stats_df.groupby(by=['team', 'year'], as_index=False).agg(np.mean)\n",
    "combined_stats_df.to_csv(\"combined_stats.csv\")"
   ]
  },
  {
   "cell_type": "markdown",
   "metadata": {},
   "source": [
    "#### Split Out 2017 Data (this will be for predictions only)"
   ]
  },
  {
   "cell_type": "code",
   "execution_count": null,
   "metadata": {
    "collapsed": false
   },
   "outputs": [],
   "source": [
    "combined_stats_2017_df = combined_stats_df.query(\"year == 2017\")\n",
    "combined_stats_df.query(\"year < 2017\", inplace=True)"
   ]
  },
  {
   "cell_type": "markdown",
   "metadata": {},
   "source": [
    "## Extract Features and Labels from Data"
   ]
  },
  {
   "cell_type": "code",
   "execution_count": null,
   "metadata": {
    "collapsed": false
   },
   "outputs": [],
   "source": [
    "#combined_stats_df = pd.read_csv(\"combined_stats.csv\")\n",
    "features = combined_stats_df.query(\n",
    "    \"year > 1987\").loc[:, combined_stats_df.columns.difference(['off_dvoa', 'team', 'year'])].values\n",
    "feature_fields = combined_stats_df.query(\n",
    "    \"year > 1987\").loc[:, combined_stats_df.columns.difference(['off_dvoa', 'team', 'year'])].columns\n",
    "labels = combined_stats_df.query(\"year > 1987\")['off_dvoa'].values"
   ]
  },
  {
   "cell_type": "markdown",
   "metadata": {
    "collapsed": true
   },
   "source": [
    "## Scale Data"
   ]
  },
  {
   "cell_type": "code",
   "execution_count": null,
   "metadata": {
    "collapsed": false
   },
   "outputs": [],
   "source": [
    "from sklearn.preprocessing import scale\n",
    "\n",
    "scaled_features = scale(features)"
   ]
  },
  {
   "cell_type": "markdown",
   "metadata": {},
   "source": [
    "## Split Training and Testing Datasets"
   ]
  },
  {
   "cell_type": "code",
   "execution_count": null,
   "metadata": {
    "collapsed": false
   },
   "outputs": [],
   "source": [
    "from sklearn.model_selection import train_test_split\n",
    "features_train, features_test, labels_train, labels_test = train_test_split(scaled_features, labels, test_size = 0.3)"
   ]
  },
  {
   "cell_type": "markdown",
   "metadata": {},
   "source": [
    "## Fit Model, Make and Test Predictions"
   ]
  },
  {
   "cell_type": "code",
   "execution_count": null,
   "metadata": {
    "collapsed": false
   },
   "outputs": [],
   "source": [
    "from sklearn.ensemble import RandomForestRegressor\n",
    "from sklearn.metrics import explained_variance_score\n",
    "from sklearn.metrics import r2_score\n",
    "\n",
    "reg = RandomForestRegressor(max_depth=20, min_samples_leaf=2, min_samples_split=8, min_weight_fraction_leaf=0)\n",
    "reg.fit(features_train, labels_train)\n",
    "predicted = reg.predict(features_test)\n",
    "\n",
    "ev_score = explained_variance_score(labels_test, predicted)\n",
    "print(\"Explained variance score: \", ev_score)\n",
    "\n",
    "r2_score = r2_score(labels_test, predicted)\n",
    "print(\"r2 score: \", r2_score)\n",
    "\n",
    "fig, ax = plt.subplots()\n",
    "ax.scatter(labels_test, labels_test, color='red', alpha=0.1)\n",
    "ax.scatter(predicted, labels_test, alpha=0.3)\n",
    "plt.xlabel(\"Predicted DVOA\")\n",
    "plt.ylabel(\"Actual DVOA\")\n",
    "plt.title(\"Predictions of Offensive DVOA for NFL Teams\")\n",
    "plt.show()"
   ]
  },
  {
   "cell_type": "markdown",
   "metadata": {},
   "source": [
    "## Feature Importance"
   ]
  },
  {
   "cell_type": "code",
   "execution_count": null,
   "metadata": {
    "collapsed": false
   },
   "outputs": [],
   "source": [
    "for x in sorted(zip(map(lambda x: round(x, 4), reg.feature_importances_), feature_fields), \n",
    "             reverse=True):\n",
    "    print(x)"
   ]
  },
  {
   "cell_type": "markdown",
   "metadata": {
    "collapsed": true
   },
   "source": [
    "## Make Predictions for 49ers for 2017 and 2018 Seasons"
   ]
  },
  {
   "cell_type": "markdown",
   "metadata": {},
   "source": [
    "#### Make model predictions for 2017 season"
   ]
  },
  {
   "cell_type": "code",
   "execution_count": null,
   "metadata": {
    "collapsed": false
   },
   "outputs": [],
   "source": [
    "from sklearn.preprocessing import scale\n",
    "def make_preds(df, team, reg, year, scaled_features, labels):    \n",
    "    subset_df = df.query(\"team == '{}'\".format(team))\n",
    "    pred_features = subset_df.loc[:, subset_df.columns.difference(['off_dvoa', 'team', 'year'])].values\n",
    "    scaled_pred_features = scale(pred_features)\n",
    "    # run the model 100 times and take the average of the predicted DVOA\n",
    "    predicted_to_team = []\n",
    "    for i in range(0, 100):\n",
    "        reg = RandomForestRegressor(max_depth=20, min_samples_leaf=2, min_samples_split=8, min_weight_fraction_leaf=0)\n",
    "        reg.fit(scaled_features, labels)\n",
    "        pred = reg.predict(scaled_pred_features)\n",
    "        for p in pred:\n",
    "            predicted_to_team.append({'team': team, 'off_dvoa': p, 'year': year})\n",
    "    predictions_df = pd.DataFrame(predicted_to_team)\n",
    "    return predictions_df\n",
    "predictions_2017_df = make_preds(combined_stats_2017_df, 'SF', reg, 2017, scaled_features, labels)"
   ]
  },
  {
   "cell_type": "markdown",
   "metadata": {},
   "source": [
    "#### Make model predictions for 2018 season"
   ]
  },
  {
   "cell_type": "code",
   "execution_count": null,
   "metadata": {
    "collapsed": false
   },
   "outputs": [],
   "source": [
    "dvoa_2016 = combined_stats_df.query(\"team == 'SF' & year == 2016\")[\"off_dvoa\"].max()\n",
    "dvoa_2017_predicted = predictions_2017_df['off_dvoa'].mean()\n",
    "dvoa_oc_career = combined_stats_df.query(\"team == 'SF' & year == 2016\")[\"oc_career_dvoa\"].max()\n",
    "dvoa_oc_career_diff = combined_stats_df.query(\"team == 'SF' & year == 2016\")[\"oc_career_diff_from_prev\"].max()\n",
    "data_for_2018 = [{\n",
    "    'team': 'SF',\n",
    "    'year': 2018,\n",
    "    'hc_career_diff_from_prev': dvoa_2017_predicted - dvoa_2016,\n",
    "    'hc_career_dvoa': dvoa_2017_predicted,\n",
    "    'hc_last_year_dvoa': dvoa_2017_predicted,\n",
    "    'hc_years': 1.0,\n",
    "    'hc_years_with_team': 1.0,\n",
    "    'team_last_year_dvoa': dvoa_2017_predicted,\n",
    "    'oc_career_dvoa': ((dvoa_oc_career * 9) + dvoa_2017_predicted) / 10.0,\n",
    "    'oc_career_diff_from_prev': ((dvoa_oc_career_diff * 9) + (dvoa_2017_predicted - dvoa_2016)) / 10.0,\n",
    "    'oc_last_year_dvoa': dvoa_2017_predicted,\n",
    "    'oc_years': 1.0,\n",
    "    'oc_years_with_team': 1.0,\n",
    "    'qb_career_dvoa': 0.0,\n",
    "    'qb_last_year_dvoa': 0.0,\n",
    "    'qb_years': 0.0,\n",
    "    'qb_years_with_team': 0.0,\n",
    "    'off_dvoa': 0.0\n",
    "}]\n",
    "data_2018_df = pd.DataFrame(data_for_2018)\n",
    "predictions_2018_df = make_preds(data_2018_df, 'SF', reg, 2018, scaled_features, labels)"
   ]
  },
  {
   "cell_type": "markdown",
   "metadata": {},
   "source": [
    "#### Add data for 2016 season, 2017 model prediction, and 2017-2018 Shanahan coefficient predictions"
   ]
  },
  {
   "cell_type": "code",
   "execution_count": null,
   "metadata": {
    "collapsed": true
   },
   "outputs": [],
   "source": [
    "predicted_list = []\n",
    "predicted_list.append({\n",
    "        'year': 2017,\n",
    "        'team': 'SF',\n",
    "        'off_dvoa': predictions_2017_df['off_dvoa'].mean(),\n",
    "        'type': 'model prediction'\n",
    "    })\n",
    "predicted_list.append({\n",
    "        'year': 2018,\n",
    "        'team': 'SF',\n",
    "        'off_dvoa': predictions_2018_df['off_dvoa'].mean(),\n",
    "        'type': 'model prediction'\n",
    "    })\n",
    "predicted_list.append({\n",
    "        'year': 2016,\n",
    "        'team': 'SF',\n",
    "        'off_dvoa': combined_stats_df.query(\"year == 2016 & team == 'SF'\")['off_dvoa'].max(),\n",
    "        'type': 'actual'\n",
    "    })\n",
    "predicted_list.append({\n",
    "        'year': 2017,\n",
    "        'team': 'SF',\n",
    "        'off_dvoa': -0.18,\n",
    "        'type': 'actual (through week 6)'\n",
    "    })\n",
    "predicted_list.append({\n",
    "        'year': 2017,\n",
    "        'team': 'SF',\n",
    "        'off_dvoa': combined_stats_df.query(\"year == 2016 & team == 'SF'\")['off_dvoa'].max() + -0.0215 ,\n",
    "        'type': 'Shanahan coefficient prediction'\n",
    "    })\n",
    "predicted_list.append({\n",
    "        'year': 2018,\n",
    "        'team': 'SF',\n",
    "        'off_dvoa': combined_stats_df.query(\"year == 2016 & team == 'SF'\")['off_dvoa'].max() + 0.0903,\n",
    "        'type': 'Shanahan coefficient prediction'\n",
    "    })\n",
    "predicted_df = pd.DataFrame(predicted_list)"
   ]
  },
  {
   "cell_type": "markdown",
   "metadata": {},
   "source": [
    "#### Output to CSV"
   ]
  },
  {
   "cell_type": "code",
   "execution_count": null,
   "metadata": {
    "collapsed": false
   },
   "outputs": [],
   "source": [
    "predicted_df.to_csv(\"predicted_dvoa.csv\", index=False)"
   ]
  }
 ],
 "metadata": {
  "anaconda-cloud": {},
  "kernelspec": {
   "display_name": "Python [py35]",
   "language": "python",
   "name": "Python [py35]"
  },
  "language_info": {
   "codemirror_mode": {
    "name": "ipython",
    "version": 3
   },
   "file_extension": ".py",
   "mimetype": "text/x-python",
   "name": "python",
   "nbconvert_exporter": "python",
   "pygments_lexer": "ipython3",
   "version": "3.5.2"
  }
 },
 "nbformat": 4,
 "nbformat_minor": 0
}
