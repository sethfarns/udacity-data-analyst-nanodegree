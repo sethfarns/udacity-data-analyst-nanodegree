{
 "cells": [
  {
   "cell_type": "markdown",
   "metadata": {},
   "source": [
    "## Import Required Dependencies"
   ]
  },
  {
   "cell_type": "code",
   "execution_count": null,
   "metadata": {
    "collapsed": true
   },
   "outputs": [],
   "source": [
    "import numpy as np\n",
    "import pandas as pd\n",
    "from pprint import pprint\n",
    "import re\n",
    "from bs4 import BeautifulSoup\n",
    "import requests\n",
    "from collections import defaultdict\n",
    "ses = requests.Session()"
   ]
  },
  {
   "cell_type": "markdown",
   "metadata": {},
   "source": [
    "## Define Function for Auditing Dataframes\n",
    "This is a function I use to give a snapshot of the data in the dataframe, so I can (hopefully) quickly identify problems that need to be fixed. It gives me a count of all records in the dataframe, null counts for each column, and then outputs a random sample of 20 values from each column."
   ]
  },
  {
   "cell_type": "code",
   "execution_count": null,
   "metadata": {
    "collapsed": true
   },
   "outputs": [],
   "source": [
    "# check for problem data\n",
    "def audit_df(df):\n",
    "    # show total records for dataset\n",
    "    print(\"Total records in dataset:\")\n",
    "    print(len(df))\n",
    "    print()\n",
    "    # show how many null values for each column\n",
    "    print(\"null values by column:\")\n",
    "    pprint(df.isnull().sum())\n",
    "    print()\n",
    "    print(\"Max value by column:\")\n",
    "    pprint(df.max())\n",
    "    print(\"Min value by column:\")\n",
    "    pprint(df.min())\n",
    "    for column in df.columns.values:\n",
    "        print(column + \":\")\n",
    "        # convert column values to strings for better printing\n",
    "        column_as_strings = set([str(i) for i in df[column]])\n",
    "        # grab a random sample of 20 elements of each column\n",
    "        pprint(random.sample(column_as_strings, min(20, len(column_as_strings))))\n",
    "        print()"
   ]
  },
  {
   "cell_type": "markdown",
   "metadata": {},
   "source": [
    "## Grab Offensive DVOA Data for Years 1986 to 2017\n",
    "This data is coming from the offensive statistics tables at Football Outsiders. The script below accesses those pages for each season from 1986 to 2017, and parses out all the statistics."
   ]
  },
  {
   "cell_type": "code",
   "execution_count": null,
   "metadata": {
    "collapsed": false,
    "scrolled": true
   },
   "outputs": [],
   "source": [
    "def get_soup(ses, url):\n",
    "    try:\n",
    "        resp = ses.get(url)\n",
    "        if resp.ok:\n",
    "            soup = BeautifulSoup(resp.text, \"lxml\")\n",
    "            return soup\n",
    "    except:\n",
    "        return None\n",
    "\n",
    "def get_stats_table(soup):\n",
    "    body = soup.find('body')\n",
    "    content = body.find('div', id='content')\n",
    "    content_main = content.find('div', id='content_main')\n",
    "    columns = content_main.find('div', id='columns')\n",
    "    center = columns.find('div', id='center')\n",
    "    content_body = center.find(\"div\", {\"class\": \"content-body\"})\n",
    "    stats_table = content_body.find(\"table\", {\"class\": \"stats\"})\n",
    "    return stats_table\n",
    "\n",
    "def format_cell_text(td):\n",
    "    formatted_text = td.text.replace(\"\\n\",\"\")\n",
    "    formatted_text = re.sub('\\.|-', '_', formatted_text)\n",
    "    formatted_text = re.sub('_$', '', formatted_text).lower()\n",
    "    return formatted_text\n",
    "\n",
    "def format_records(headers, records):\n",
    "    formatted_records = []\n",
    "    headers += ['year', 'stat_type']\n",
    "    for row in records:\n",
    "        temp_dict = {}\n",
    "        for idx, val in enumerate(row):\n",
    "            temp_dict[headers[idx]] = val\n",
    "        formatted_records.append(temp_dict)\n",
    "    return formatted_records\n",
    "\n",
    "def extract_off_headers(headers, formatted_text):\n",
    "    if formatted_text in [\"rk\", \"rank\"]:\n",
    "        return [headers[-1] + \"_rank\"]\n",
    "    elif formatted_text == 'non_adjusted':\n",
    "        return ['na_' + x for x in ['total', 'pass', 'rush']]\n",
    "    elif formatted_text == \"weightedoffense\":\n",
    "        return [\"wei_offense\"]\n",
    "    else:\n",
    "        return [formatted_text]   \n",
    "    \n",
    "def extract_skillpos_headers(headers, formatted_text):\n",
    "    if formatted_text in [\"rk\", \"rank\"]:\n",
    "        return [headers[-1] + \"_rank\"]\n",
    "    elif formatted_text == \"pass\":\n",
    "        return [\"passes\"]\n",
    "    else:\n",
    "        return [formatted_text]\n",
    "\n",
    "def extract_stats(soup, year, stat_type):\n",
    "    stats_table = get_stats_table(soup)\n",
    "    row_counter = 0\n",
    "    records = []\n",
    "    headers = []\n",
    "    for tr in stats_table.findAll('tr'):\n",
    "        temp_row = []\n",
    "        for td in tr.findAll('td'):            \n",
    "            if row_counter == 0:\n",
    "                if td.text != \"\":\n",
    "                    formatted_text = format_cell_text(td)\n",
    "                    if stat_type == \"teamoff\":\n",
    "                        if headers == []:\n",
    "                            headers = [\"off_dvoa_rank\"]\n",
    "                        headers += extract_off_headers(headers, formatted_text)\n",
    "                    elif stat_type == \"qb\":\n",
    "                        headers += extract_skillpos_headers(headers, formatted_text)\n",
    "            else:                \n",
    "                if \"%\" in td.text:\n",
    "                    # convert percentage strings to floats\n",
    "                    try:\n",
    "                        temp_row.append(float(td.text.strip(\"%\")) / 100)\n",
    "                    except:\n",
    "                        temp_row.append(\"\")\n",
    "                else:\n",
    "                    try:\n",
    "                        temp_row.append(float(td.text))\n",
    "                    except:\n",
    "                        temp_row.append(td.text)\n",
    "        if temp_row != [] and temp_row[0] != \"\" and temp_row[0] != \"Player\":\n",
    "            records.append(temp_row + [year, stat_type])                \n",
    "        row_counter += 1\n",
    "    formatted_records = format_records(headers, records)\n",
    "    return formatted_records\n",
    "\n",
    "stats_uri = \"http://www.footballoutsiders.com/stats/\"\n",
    "stats = defaultdict(list)\n",
    "stats_tables = ['teamoff', 'qb']\n",
    "for st in stats_tables:\n",
    "    for year in range(1986, 2018):\n",
    "        soup = get_soup(ses, stats_uri + str(st) + str(year))\n",
    "        if soup:\n",
    "            stats[st] += extract_stats(soup, year, st)\n",
    "        print(\"Completed year {} for stat {}\".format(year, st))\n",
    "\n",
    "teamoff_df = pd.DataFrame(stats['teamoff'])\n",
    "qb_df = pd.DataFrame(stats['qb'])"
   ]
  },
  {
   "cell_type": "markdown",
   "metadata": {},
   "source": [
    "## Grab Head Coach and Offensive Coordinators for Each Team, 1986-2017\n",
    "This data is gleaned from the team pages at Football Reference."
   ]
  },
  {
   "cell_type": "code",
   "execution_count": null,
   "metadata": {
    "collapsed": false,
    "scrolled": true
   },
   "outputs": [],
   "source": [
    "pfr_teams = ['nwe','nyj','mia','buf','oti','jax','htx','clt','rav','pit','cin','cle','kan','den','rai','sdg','phi','was',\n",
    " 'dal','nyg','tam','car','atl','nor','det','min','chi','gnb','ram','sea','crd','sfo']\n",
    "\n",
    "def convert_team_name(team, year):\n",
    "    team_mapping = {'nwe': 'NE', 'jax': 'JAC', 'htx': 'HOU', 'clt': 'IND', 'rav': 'BAL', 'kan': 'KC',\n",
    "                   'tam': 'TB', 'nor': 'NO', 'gnb': 'GB', 'sfo': 'SF'}\n",
    "    if team_mapping.get(team):\n",
    "        return team_mapping[team]\n",
    "    elif team == 'sdg':\n",
    "        if year == 2017:\n",
    "            return 'LACH'\n",
    "        else:\n",
    "            return 'SD'\n",
    "    elif team == 'ram':\n",
    "        if year < 2016 and year > 1994:\n",
    "            return 'STL'\n",
    "        else:\n",
    "            return 'LARM'\n",
    "    elif team == \"oti\":\n",
    "        if year < 1997:\n",
    "            return 'HOIL'\n",
    "        else:\n",
    "            return 'TEN'\n",
    "    elif team == \"cle\":\n",
    "        if year < 1996:\n",
    "            return 'CLE1'\n",
    "        else:\n",
    "            return 'CLE'\n",
    "    elif team == \"crd\":\n",
    "        if year < 1988:\n",
    "            return \"STLC\"\n",
    "        elif year < 1994:\n",
    "            return \"PHX\"\n",
    "        else:\n",
    "            return \"ARI\"\n",
    "    elif team == \"rai\":\n",
    "        if year > 1994 or year < 1989:\n",
    "            return \"OAK\"\n",
    "        else:\n",
    "            return \"LARD\" \n",
    "    else:\n",
    "        return team.upper()\n",
    "\n",
    "def extract_coaches(soup, team, year):\n",
    "    coaches = []\n",
    "    team_name = convert_team_name(team, year)\n",
    "    body = soup.find('body')\n",
    "    wrap = body.find('div', id='wrap')\n",
    "    info = wrap.find('div', id='info')\n",
    "    meta = info.find('div', id='meta')\n",
    "    for p in meta.findAll('p'):\n",
    "        if \"Coach:\" in p.text:\n",
    "            # only grab the first coach; if there were two, the first one listed will be the last one to coach that year\n",
    "            coaches.append({'type': 'head coach', 'name': p.find('a').text, 'team': team_name, 'year': year})\n",
    "        if \"Offensive Coordinator:\" in p.text:\n",
    "            coaches.append({'type': 'offensive coordinator', 'name': p.find('a').text, 'team': team_name, 'year': year})\n",
    "    return coaches\n",
    "\n",
    "coaches_uri = \"https://www.pro-football-reference.com/teams/\"\n",
    "coaches_by_team = []\n",
    "for team in pfr_teams:\n",
    "    for year in range(1986,2018):\n",
    "        # skip team/year combinations that did not exist\n",
    "        if team == 'htx' and year < 2002:\n",
    "            continue\n",
    "        elif team in [\"jax\", \"car\"] and year < 1995:\n",
    "            continue\n",
    "        elif team == \"cle\" and year in [1996, 1997, 1998]:\n",
    "            continue\n",
    "        elif team == \"rav\" and year < 1996:\n",
    "            continue\n",
    "        soup = get_soup(ses, coaches_uri + str(team) + \"/\" + str(year) + \".htm\")\n",
    "        if soup:\n",
    "            coaches_by_team += extract_coaches(soup, team, year)\n",
    "        print(\"Completed year {} for team {}\".format(year, team))\n",
    "coaches_df = pd.DataFrame(coaches_by_team)"
   ]
  },
  {
   "cell_type": "markdown",
   "metadata": {},
   "source": [
    "### Convert Changing Team Names for Consistency\n",
    "Yes, I could have just fixed the names as the data came in, but I didn't, so..."
   ]
  },
  {
   "cell_type": "code",
   "execution_count": null,
   "metadata": {
    "collapsed": false
   },
   "outputs": [],
   "source": [
    "# use STL for all Rams teams\n",
    "coaches_df.loc[coaches_df['team'] == 'LARM', 'team'] = 'STL'\n",
    "teamoff_df.loc[teamoff_df['team'] == 'LARM', 'team'] = 'STL'\n",
    "qb_df.loc[qb_df['team'] == 'LARM', 'team'] = 'STL'\n",
    "\n",
    "# use ARI for all Cardinals teams\n",
    "coaches_df.loc[(coaches_df['team'] == 'STLC') | (coaches_df['team'] == 'PHX'), 'team'] = 'ARI'\n",
    "teamoff_df.loc[(teamoff_df['team'] == 'STLC') | (teamoff_df['team'] == 'PHX'), 'team'] = 'ARI'\n",
    "qb_df.loc[(qb_df['team'] == 'STLC') | (qb_df['team'] == 'PHX'), 'team'] = 'ARI'\n",
    "\n",
    "# use TEN for all Oilers/Titans teams\n",
    "coaches_df.loc[coaches_df['team'] == 'HOIL', 'team'] = 'TEN'\n",
    "teamoff_df.loc[teamoff_df['team'] == 'HOIL', 'team'] = 'TEN'\n",
    "qb_df.loc[qb_df['team'] == 'HOIL', 'team'] = 'TEN'\n",
    "\n",
    "# use BAL for the first Browns team and the Ravens\n",
    "coaches_df.loc[coaches_df['team'] == 'CLE1', 'team'] = 'BAL'\n",
    "teamoff_df.loc[teamoff_df['team'] == 'CLE1', 'team'] = 'BAL'\n",
    "qb_df.loc[qb_df['team'] == 'CLE1', 'team'] = 'BAL'\n",
    "\n",
    "# use OAK for all Raiders teams\n",
    "coaches_df.loc[coaches_df['team'] == 'LARD', 'team'] = 'OAK'\n",
    "teamoff_df.loc[teamoff_df['team'] == 'LARD', 'team'] = 'OAK'\n",
    "qb_df.loc[qb_df['team'] == 'LARD', 'team'] = 'OAK'\n",
    "\n",
    "# use SD for all Chargers teams\n",
    "coaches_df.loc[coaches_df['team'] == 'LACH', 'team'] = 'SD'\n",
    "teamoff_df.loc[teamoff_df['team'] == 'LACH', 'team'] = 'SD'\n",
    "qb_df.loc[qb_df['team'] == 'LACH', 'team'] = 'SD'"
   ]
  },
  {
   "cell_type": "markdown",
   "metadata": {},
   "source": [
    "### For Teams with No Offensive Coordinator, Add the Head Coach as the OC"
   ]
  },
  {
   "cell_type": "code",
   "execution_count": null,
   "metadata": {
    "collapsed": false
   },
   "outputs": [],
   "source": [
    "for year in range(1986, 2018):\n",
    "    for team in list(set(coaches_df['team'].values)):\n",
    "        subset = coaches_df.query(\"year == {0} & team == '{1}'\".format(year, team))\n",
    "        subset_ocs = subset.query(\"type == 'offensive coordinator'\")\n",
    "        if subset_ocs.empty:\n",
    "            subset_hcs = subset.query(\"type == 'head coach'\")\n",
    "            head_coaches = list(set(subset_hcs['name']))\n",
    "            for hc in head_coaches:\n",
    "                coaches_df.loc[len(coaches_df)+1] = {'name': hc, 'team': team, 'type': 'offensive coordinator', 'year': year}"
   ]
  },
  {
   "cell_type": "markdown",
   "metadata": {},
   "source": [
    "## Calculate Advanced Stats"
   ]
  },
  {
   "cell_type": "markdown",
   "metadata": {},
   "source": [
    "#### Add Previous Year's DVOA for Each Team Offense"
   ]
  },
  {
   "cell_type": "code",
   "execution_count": null,
   "metadata": {
    "collapsed": false
   },
   "outputs": [],
   "source": [
    "def calc_prev_dvoa(df, stat_name):    \n",
    "    temp_df = df.sort_values(by=['team', 'year'], ascending=True, axis=0, inplace=False)\n",
    "    temp_df.loc[temp_df.year > 1986, 'prev_dvoa'] = temp_df[stat_name].shift(1)\n",
    "    return temp_df\n",
    "teamoff_df = calc_prev_dvoa(teamoff_df, 'off_dvoa')"
   ]
  },
  {
   "cell_type": "markdown",
   "metadata": {},
   "source": [
    "#### Calculate how many years away each coordinator is from Kyle Shanahan on each given team"
   ]
  },
  {
   "cell_type": "code",
   "execution_count": null,
   "metadata": {
    "collapsed": false
   },
   "outputs": [],
   "source": [
    "def years_from_shanny(df, row):\n",
    "    if row['name'] == \"Kyle Shanahan\" or row['type'] == 'head coach':\n",
    "        return None\n",
    "    shanny_subset = df.query(\"team == '{}' & name == 'Kyle Shanahan'\".format(row['team']))\n",
    "    if not shanny_subset.empty:\n",
    "        shanny_min = shanny_subset['year'].min()\n",
    "        shanny_max = shanny_subset['year'].max()\n",
    "        return min(abs(row['year'] - shanny_min), abs(row['year'] - shanny_max))\n",
    "        \n",
    "coaches_df['years_from_shanny'] = coaches_df.apply(lambda x: years_from_shanny(coaches_df, x), axis=1)"
   ]
  },
  {
   "cell_type": "markdown",
   "metadata": {},
   "source": [
    "#### Identify team's previous coach"
   ]
  },
  {
   "cell_type": "code",
   "execution_count": null,
   "metadata": {
    "collapsed": false
   },
   "outputs": [],
   "source": [
    "def calc_prev_name(df, stat_name, coach_type):\n",
    "    # first sort on team and year, so we can just grab the coach/player from the previous record\n",
    "    temp_df = df.query(\"type == '{}'\".format(coach_type)).sort_values(by=['team', 'year'], ascending=True, axis=0, inplace=False)\n",
    "    # calculate the first year that each coach/player has been with each team\n",
    "    for name in list(set(temp_df[stat_name])):\n",
    "        subset_df = temp_df.query(\"{0} == \\\"{1}\\\"\".format(stat_name, name))\n",
    "        for team in list(set(subset_df['team'])):            \n",
    "                first_year = subset_df.query(\"team == '{}'\".format(team))['year'].max()\n",
    "                temp_df.loc[temp_df.year > first_year, 'prev_' + stat_name] = temp_df[stat_name].shift(1)\n",
    "    return temp_df\n",
    "\n",
    "def update_df_with_names(df):\n",
    "    tempdf1 = calc_prev_name(df, 'name', 'head coach')\n",
    "    tempdf2 = calc_prev_name(df, 'name', 'offensive coordinator')\n",
    "    return tempdf1.append(tempdf2)\n",
    "                        \n",
    "coaches_df = update_df_with_names(coaches_df)"
   ]
  },
  {
   "cell_type": "markdown",
   "metadata": {},
   "source": [
    "#### Identify number of years a coach has been with his current team"
   ]
  },
  {
   "cell_type": "code",
   "execution_count": null,
   "metadata": {
    "collapsed": false
   },
   "outputs": [],
   "source": [
    "def years_with_current_team(df, stat_name, coach_type):\n",
    "    temp_df = df.sort_values(by=['team', 'year'], ascending=True, axis=0, inplace=False).query(\"type == '{}'\".format(coach_type))\n",
    "    year_counter = 1\n",
    "    for row in temp_df.iterrows():\n",
    "        team = row[1]['team']\n",
    "        year = row[1]['year']\n",
    "        name = row[1][stat_name]\n",
    "        prev_name = row[1][\"prev_\" + stat_name]\n",
    "        if name == prev_name:\n",
    "            year_counter += 1\n",
    "        else:\n",
    "            year_counter = 1\n",
    "        temp_df.loc[(temp_df['team'] == team) & (temp_df['year'] == year), 'years_with_team'] = year_counter\n",
    "    return temp_df\n",
    "\n",
    "def update_df_years_with_current_team(df):\n",
    "    tempdf1 = years_with_current_team(df, \"name\", \"head coach\")\n",
    "    tempdf2 = years_with_current_team(df, \"name\", \"offensive coordinator\")\n",
    "    return tempdf1.append(tempdf2)\n",
    "\n",
    "coaches_df = update_df_years_with_current_team(coaches_df)"
   ]
  },
  {
   "cell_type": "markdown",
   "metadata": {},
   "source": [
    "#### Calculate difference in DVOA from the previous coach"
   ]
  },
  {
   "cell_type": "code",
   "execution_count": null,
   "metadata": {
    "collapsed": false
   },
   "outputs": [],
   "source": [
    "def calc_diff_prev_coach(df, coaches_df, stat_name, coach_type):\n",
    "    temp_df = df.sort_values(by=['team', 'year'], ascending=True, axis=0, inplace=False)\n",
    "    diff_dvoa = 0\n",
    "    initial_dvoa = np.nan\n",
    "    for row in temp_df.merge(coaches_df.query(\"type == '{}'\".format(coach_type)), on=['team', 'year']).iterrows():\n",
    "        if row[1]['name'] != row[1]['prev_name']:\n",
    "            initial_dvoa = row[1]['prev_dvoa']\n",
    "        diff_dvoa = (row[1][stat_name] - initial_dvoa)\n",
    "        team = row[1]['team']\n",
    "        year = row[1]['year']\n",
    "        temp_df.loc[(temp_df.team == team) & (temp_df.year == year), 'diff_from_prev_coach'] = diff_dvoa\n",
    "    return temp_df\n",
    "\n",
    "teamoff_df = calc_diff_prev_coach(teamoff_df, coaches_df, 'off_dvoa', \"head coach\")\n",
    "teamoff_df = calc_diff_prev_coach(teamoff_df, coaches_df, 'off_dvoa', \"offensive coordinator\")"
   ]
  },
  {
   "cell_type": "markdown",
   "metadata": {},
   "source": [
    "## Write DataFrames to Excel\n",
    "These will be used in Tableau, and also for the machine learning predictions."
   ]
  },
  {
   "cell_type": "code",
   "execution_count": null,
   "metadata": {
    "collapsed": false
   },
   "outputs": [],
   "source": [
    "writer = pd.ExcelWriter(\"dvoa_stats.xlsx\")\n",
    "teamoff_df.to_excel(writer, sheet_name=\"teamoff\", index=False)\n",
    "qb_df.to_excel(writer, sheet_name=\"qb\", index=False)\n",
    "coaches_df.to_excel(writer, sheet_name=\"coaches\", index=False)\n",
    "writer.save()"
   ]
  }
 ],
 "metadata": {
  "anaconda-cloud": {},
  "kernelspec": {
   "display_name": "Python [py35]",
   "language": "python",
   "name": "Python [py35]"
  },
  "language_info": {
   "codemirror_mode": {
    "name": "ipython",
    "version": 3
   },
   "file_extension": ".py",
   "mimetype": "text/x-python",
   "name": "python",
   "nbconvert_exporter": "python",
   "pygments_lexer": "ipython3",
   "version": "3.5.2"
  }
 },
 "nbformat": 4,
 "nbformat_minor": 0
}
